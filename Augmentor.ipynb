{
 "cells": [
  {
   "cell_type": "code",
   "execution_count": 14,
   "metadata": {},
   "outputs": [
    {
     "name": "stdout",
     "output_type": "stream",
     "text": [
      "Initialised with 4 image(s) found.\n",
      "Output directory set to /notebooks/Imagenes/animales/Salida."
     ]
    }
   ],
   "source": [
    "import Augmentor\n",
    "p = Augmentor.Pipeline(\"/notebooks/Imagenes/animales\",output_directory=\"/notebooks/Imagenes/animales/Salida\")\n"
   ]
  },
  {
   "cell_type": "code",
   "execution_count": 15,
   "metadata": {},
   "outputs": [],
   "source": [
    "p.rotate90(probability=.5)\n",
    "p.rotate270(probability=0.5)\n",
    "p.flip_left_right(probability=0.8)\n",
    "p.flip_top_bottom(probability=0.3)\n",
    "p.crop_random(probability=1, percentage_area=0.5)\n",
    "p.resize(probability=1.0, width=120, height=120)"
   ]
  },
  {
   "cell_type": "code",
   "execution_count": 16,
   "metadata": {},
   "outputs": [
    {
     "name": "stderr",
     "output_type": "stream",
     "text": [
      "Processing <PIL.JpegImagePlugin.JpegImageFile image mode=RGB size=259x194 at 0x7F48571AFA90>: 100%|██████████| 40/40 [00:04<00:00, 11.31 Samples/s]\n"
     ]
    }
   ],
   "source": [
    "p.sample(40)"
   ]
  },
  {
   "cell_type": "code",
   "execution_count": null,
   "metadata": {},
   "outputs": [],
   "source": []
  },
  {
   "cell_type": "code",
   "execution_count": null,
   "metadata": {},
   "outputs": [],
   "source": []
  }
 ],
 "metadata": {
  "kernelspec": {
   "display_name": "Python 2",
   "language": "python",
   "name": "python2"
  },
  "language_info": {
   "codemirror_mode": {
    "name": "ipython",
    "version": 2
   },
   "file_extension": ".py",
   "mimetype": "text/x-python",
   "name": "python",
   "nbconvert_exporter": "python",
   "pygments_lexer": "ipython2",
   "version": "2.7.12"
  }
 },
 "nbformat": 4,
 "nbformat_minor": 2
}
