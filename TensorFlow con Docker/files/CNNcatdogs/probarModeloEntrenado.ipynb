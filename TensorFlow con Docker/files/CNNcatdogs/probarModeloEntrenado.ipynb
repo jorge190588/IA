{
 "cells": [
  {
   "cell_type": "code",
   "execution_count": 39,
   "metadata": {
    "collapsed": false
   },
   "outputs": [
    {
     "name": "stdout",
     "output_type": "stream",
     "text": [
      "image_path cat.3.jpg\n",
      "ruta de imagen /notebooks/CNNcatdogs/imagenes/train\n",
      "filename /notebooks/CNNcatdogs/imagenes/train/cat.3.jpg\n"
     ]
    },
    {
     "ename": "error",
     "evalue": "/io/opencv/modules/imgproc/src/resize.cpp:4044: error: (-215) ssize.width > 0 && ssize.height > 0 in function resize\n",
     "output_type": "error",
     "traceback": [
      "\u001b[0;31m\u001b[0m",
      "\u001b[0;31merror\u001b[0mTraceback (most recent call last)",
      "\u001b[0;32m<ipython-input-39-bd5893c68f92>\u001b[0m in \u001b[0;36m<module>\u001b[0;34m()\u001b[0m\n\u001b[1;32m     18\u001b[0m \u001b[0;31m# Reading the image using OpenCV\u001b[0m\u001b[0;34m\u001b[0m\u001b[0;34m\u001b[0m\u001b[0m\n\u001b[1;32m     19\u001b[0m \u001b[0mimage\u001b[0m \u001b[0;34m=\u001b[0m \u001b[0mcv2\u001b[0m\u001b[0;34m.\u001b[0m\u001b[0mimread\u001b[0m\u001b[0;34m(\u001b[0m\u001b[0mfilename\u001b[0m\u001b[0;34m)\u001b[0m\u001b[0;34m\u001b[0m\u001b[0m\n\u001b[0;32m---> 20\u001b[0;31m \u001b[0mimage\u001b[0m \u001b[0;34m=\u001b[0m \u001b[0mcv2\u001b[0m\u001b[0;34m.\u001b[0m\u001b[0mresize\u001b[0m\u001b[0;34m(\u001b[0m\u001b[0mimage\u001b[0m\u001b[0;34m,\u001b[0m \u001b[0;34m(\u001b[0m\u001b[0mimage_size\u001b[0m\u001b[0;34m,\u001b[0m \u001b[0mimage_size\u001b[0m\u001b[0;34m)\u001b[0m\u001b[0;34m,\u001b[0m\u001b[0;36m0\u001b[0m\u001b[0;34m,\u001b[0m\u001b[0;36m0\u001b[0m\u001b[0;34m,\u001b[0m \u001b[0mcv2\u001b[0m\u001b[0;34m.\u001b[0m\u001b[0mINTER_LINEAR\u001b[0m\u001b[0;34m)\u001b[0m\u001b[0;34m\u001b[0m\u001b[0m\n\u001b[0m\u001b[1;32m     21\u001b[0m \u001b[0mimages\u001b[0m\u001b[0;34m.\u001b[0m\u001b[0mappend\u001b[0m\u001b[0;34m(\u001b[0m\u001b[0mimage\u001b[0m\u001b[0;34m)\u001b[0m\u001b[0;34m\u001b[0m\u001b[0m\n\u001b[1;32m     22\u001b[0m \u001b[0mimages\u001b[0m \u001b[0;34m=\u001b[0m \u001b[0mnp\u001b[0m\u001b[0;34m.\u001b[0m\u001b[0marray\u001b[0m\u001b[0;34m(\u001b[0m\u001b[0mimages\u001b[0m\u001b[0;34m,\u001b[0m \u001b[0mdtype\u001b[0m\u001b[0;34m=\u001b[0m\u001b[0mnp\u001b[0m\u001b[0;34m.\u001b[0m\u001b[0muint8\u001b[0m\u001b[0;34m)\u001b[0m\u001b[0;34m\u001b[0m\u001b[0m\n",
      "\u001b[0;31merror\u001b[0m: /io/opencv/modules/imgproc/src/resize.cpp:4044: error: (-215) ssize.width > 0 && ssize.height > 0 in function resize\n"
     ]
    }
   ],
   "source": [
    "import tensorflow as tf\n",
    "import numpy as np\n",
    "import os,glob,cv2\n",
    "import sys,argparse\n",
    "\n",
    "\n",
    "# First, pass the path of the image\n",
    "rutaDeDatosDeEntrenamiento=os.path.join(os.path.realpath('.'),'imagenes/train')\n",
    "image_path = \"cat.3.jpg\"\n",
    "filename = rutaDeDatosDeEntrenamiento +'/' +image_path\n",
    "image_size=128\n",
    "num_channels=3\n",
    "images = []\n",
    "print(\"image_path \"+str(image_path))\n",
    "print(\"ruta de imagen \"+str(rutaDeDatosDeEntrenamiento))\n",
    "print(\"filename \"+str(filename))\n",
    "\n",
    "# Reading the image using OpenCV\n",
    "image = cv2.imread(filename)\n",
    "image = cv2.resize(image, (image_size, image_size),0,0, cv2.INTER_LINEAR)\n",
    "images.append(image)\n",
    "images = np.array(images, dtype=np.uint8)\n",
    "images = images.astype('float32')\n",
    "images = np.multiply(images, 1.0/255.0) \n",
    "\n",
    "#The input to the network is of shape [None image_size image_size num_channels]. Hence we reshape.\n",
    "x_batch = images.reshape(1, image_size,image_size,num_channels)"
   ]
  },
  {
   "cell_type": "code",
   "execution_count": null,
   "metadata": {
    "collapsed": false
   },
   "outputs": [],
   "source": [
    "## Let us restore the saved model \n",
    "sess = tf.Session()\n",
    "# Step-1: Recreate the network graph. At this step only graph is created.\n",
    "saver = tf.train.import_meta_graph('./model/dogs-cats-model_20_02_2018_v.1.meta')\n",
    "# Step-2: Now let's load the weights saved using the restore method.\n",
    "saver.restore(sess, tf.train.latest_checkpoint('./'))\n",
    "\n",
    "# Accessing the default graph which we have restored\n",
    "graph = tf.get_default_graph()\n",
    "\n",
    "# Now, let's get hold of the op that we can be processed to get the output.\n",
    "# In the original network y_pred is the tensor that is the prediction of the network\n",
    "prediccionDeProbabilidadPorClase = graph.get_tensor_by_name(\"prediccionDeProbabilidadPorClase:0\")\n",
    "\n",
    "## Let's feed the images to the input placeholders\n",
    "tensorDeEntrada = graph.get_tensor_by_name(\"tensorDeEntrada:0\") \n",
    "prediccionDeProbabilidadPorClase = graph.get_tensor_by_name(\"prediccionDeProbabilidadPorClase:0\") \n",
    "y_test_images = np.zeros((1, 2)) \n",
    "\n",
    "\n",
    "### Creating the feed_dict that is required to be fed to calculate y_pred \n",
    "feed_dict_testing = {tensorDeEntrada: x_batch, prediccionDeProbabilidadPorClase: y_test_images}\n",
    "result=sess.run(y_pred, feed_dict=feed_dict_testing)\n",
    "# result is of this format [probabiliy_of_rose probability_of_sunflower]\n",
    "print(result)"
   ]
  }
 ],
 "metadata": {
  "kernelspec": {
   "display_name": "Python 2",
   "language": "python",
   "name": "python2"
  },
  "language_info": {
   "codemirror_mode": {
    "name": "ipython",
    "version": 2
   },
   "file_extension": ".py",
   "mimetype": "text/x-python",
   "name": "python",
   "nbconvert_exporter": "python",
   "pygments_lexer": "ipython2",
   "version": "2.7.6"
  }
 },
 "nbformat": 4,
 "nbformat_minor": 2
}
