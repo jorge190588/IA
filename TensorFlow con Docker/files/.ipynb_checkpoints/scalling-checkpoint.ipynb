{
 "cells": [
  {
   "cell_type": "code",
   "execution_count": null,
   "metadata": {
    "collapsed": true
   },
   "outputs": [],
   "source": [
    "import tensorflow as tf\n",
    "import matplotlib.image as mpimg\n",
    "import numpy as np\n",
    "import matplotlib.pyplot as plt\n",
    "IMAGE_SIZE = 224\n",
    "def redimensionarImagenes(rutaDeArchivos):\n",
    "    listaDeImagenes = []\n",
    "    tf.reset_default_graph()\n",
    "    imagenOriginal = tf.placeholder(tf.float32, (None, None, None))\n",
    "    tf_img = tf.image.resize_images(imagenOriginal, (IMAGE_SIZE, IMAGE_SIZE), tf.image.ResizeMethod.NEAREST_NEIGHBOR)\n",
    "    with tf.Session() as sess:\n",
    "        sess.run(tf.global_variables_initializer())\n",
    "        # Each image is resized individually as different image may be of different size.\n",
    "        \n",
    "        for contador, rutaDeImagen in enumerate(rutaDeArchivos):\n",
    "            print(\"Imagen # \"+str(contador+1)+\"/\"+str(len(rutaDeArchivos))+\" : \"+str(rutaDeImagen))\n",
    "            imagenDeEntrada = mpimg.imread(rutaDeImagen)[:, :, :3] # Do not read alpha channel.\n",
    "            imagenConNuevoTamano = sess.run(tf_img, feed_dict = {imagenOriginal: imagenDeEntrada})\n",
    "            imagenReparada= np.multiply(imagenConNuevoTamano, 1.0 / 255.0)\n",
    "            listaDeImagenes.append(imagenReparada)\n",
    "    listaDeImagenes = np.array(listaDeImagenes, dtype = np.float32) # Convert to numpy\n",
    "    return listaDeImagenes\n",
    "\n",
    "# Obtener imagenes\n",
    "X_imgs = redimensionarImagenes(['/notebooks/imagenes/ropa/blusa1.jpg','/notebooks/imagenes/ropa/blusa2.jpg','/notebooks/imagenes/ropa/blusa3.jpg'])"
   ]
  },
  {
   "cell_type": "code",
   "execution_count": null,
   "metadata": {
    "collapsed": true
   },
   "outputs": [],
   "source": [
    "def escalarImagenes(listaDeImagenes, listaDeEscalas):\n",
    "    # Various settings needed for Tensorflow operation\n",
    "    \n",
    "    recuadros = np.zeros((len(listaDeEscalas), 4), dtype = np.float32)\n",
    "    for contador, escala in enumerate(listaDeEscalas):\n",
    "        x1 = y1 = 0.5 - 0.5 * escala # To scale centrally\n",
    "        x2 = y2 = 0.5 + 0.5 * escala\n",
    "        recuadros[contador] = np.array([y1, x1, y2, x2], dtype = np.float32)\n",
    "        print(\"recuadros[contador] \"+str(recuadros[contador]))\n",
    "    \n",
    "    numeroDeRecuadros = np.zeros((len(listaDeEscalas)), dtype = np.int32)\n",
    "    tamanoDelRecorte = np.array([IMAGE_SIZE, IMAGE_SIZE], dtype = np.int32)\n",
    "    \n",
    "    listaDeResultados = []\n",
    "    tf.reset_default_graph()\n",
    "    imagenDeEntrada = tf.placeholder(tf.float32, shape = (1, IMAGE_SIZE, IMAGE_SIZE, 3))\n",
    "    # Define Tensorflow operation for all scales but only one base image at a time\n",
    "    operacionDeRecorteYredimensionamiento = tf.image.crop_and_resize(imagenDeEntrada, recuadros, numeroDeRecuadros, tamanoDelRecorte)\n",
    "    \n",
    "    with tf.Session() as sess:\n",
    "        sess.run(tf.global_variables_initializer())\n",
    "        \n",
    "        for imagen in listaDeImagenes:\n",
    "            # np.expand_dims, expande las dimensiones de una matriz\n",
    "            loteDeImagen = np.expand_dims(imagen, axis = 0)\n",
    "            imagenesEscaladas = sess.run(operacionDeRecorteYredimensionamiento, feed_dict = {imagenDeEntrada: loteDeImagen})\n",
    "            listaDeResultados.extend(imagenesEscaladas)\n",
    "            \n",
    "    listaDeResultados = np.array(listaDeResultados, dtype = np.float32)\n",
    "    return listaDeResultados\n",
    "\t\n",
    "# Produce each image at scaling of 90%, 75%, 60% and 50% of original image.\n",
    "imagenesEscaladas = escalarImagenes(X_imgs, [0.90, 0.75, 0.60, 0.50])"
   ]
  },
  {
   "cell_type": "code",
   "execution_count": null,
   "metadata": {
    "collapsed": true
   },
   "outputs": [],
   "source": [
    "# Mostrar imagenes\n",
    "\n",
    "for imagen in X_imgs:\n",
    "    imgplot = plt.imshow(imagen)\n",
    "    plt.show()\n",
    "    \n",
    "for image in imagenesEscaladas:    \n",
    "    print type(image)\n",
    "    plt.imshow(image)\n",
    "    plt.show()"
   ]
  }
 ],
 "metadata": {
  "kernelspec": {
   "display_name": "Python 2",
   "language": "python",
   "name": "python2"
  },
  "language_info": {
   "codemirror_mode": {
    "name": "ipython",
    "version": 2
   },
   "file_extension": ".py",
   "mimetype": "text/x-python",
   "name": "python",
   "nbconvert_exporter": "python",
   "pygments_lexer": "ipython2",
   "version": "2.7.6"
  }
 },
 "nbformat": 4,
 "nbformat_minor": 2
}
