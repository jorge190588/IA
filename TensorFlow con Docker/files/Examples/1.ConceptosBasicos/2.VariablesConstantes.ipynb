{
 "cells": [
  {
   "cell_type": "markdown",
   "metadata": {
    "collapsed": false
   },
   "source": [
    "# Variables y constantes\n",
    "Los datos se puede pre-cargar en memoria de dos formas, la primera es con variables y la segunda es con constantes.\n",
    "\n",
    "  EJEMPLO            DESCRIPCION\n",
    "* tf.constant(...)   constante\n",
    "* tf.Variable(...)   variable\n",
    "\n",
    "\n",
    "## Constantes\n",
    "Las operaciones utilizadas para constantes son:\n",
    "\n",
    "| Opercion | Descripcion |\n",
    "| ------ | ------ |\n",
    "| tf.zeros_like | Crear un tensor con todos los elementos inicializados a 0 |\n",
    "| tf.ones | Crear un tensor con todos los elementos inicializados a 1 |\n",
    "| tf.ones_like | Crear un tensor con todos los elementos inicializados a 1 |\n",
    "| tf.fill | Crear un tensor con todos los elementos inicializados con un valor scalar pasado como argumento |\n",
    "| tf.constant | Crear un tensor de constantes con los elmentos indicados como argumento |\n",
    "\n",
    "## Valores Random\n",
    "En tensorflow los modelos se entrenan con tensores, estos tensores tiene parametros en memoria en forma de variables.  Cuando se crea una variable se le pasa un tensor como argumento como valor inicial.\n",
    "\n",
    "Para iniciar la operaciones random es necesario especificar la forma o shape del tensor en los argumentos.\n",
    "\n",
    "Si desea guardar una variable en disco durante y después del entramento del modelo, se puede hacer mediante:\n",
    "```\n",
    "    tf.train.Saver\n",
    "```\n",
    "\n",
    "Los tensores pueden contener valores random, las operaciones random son listadas a continuacion:\n",
    "\n",
    "| Opercion | Descripcion |\n",
    "| ------ | ------ |\n",
    "| tf.random_normal | Valores random con una distribución normal, con una media y desviación estándar indicadas como argumentos |\n",
    "| tf.truncated_normal | Igual que la anterior pero eliminado aquellos valores cuya margnitud es más de 2 veces la desviación estándard |\n",
    "| tf.random_uniform | Valores random con una distribución uniforme de un rango indicado en los argumentos |\n",
    "| tf.random_shuffle | Mezclados aleatoriamente los elementos de un tensor en su primera dimensión |\n",
    "| tf.set_random_seed | Establece la semilla aleatoria a nivel de grafo |\n",
    "\n",
    "Las variables tienen que inicializarse antes de la ejecución o de la sentencia \n",
    "```\n",
    "    run()\n",
    "```\n",
    "Para ello existe el comando\n",
    "```\n",
    "    tf.initialize_all_variables()\n",
    "```\n",
    "\n",
    "## Variables\n",
    "Las variables simbólicas o placeholder son utilizadas para manipular los valores de las variables durante la ejecución del programa."
   ]
  },
  {
   "cell_type": "markdown",
   "metadata": {
    "collapsed": false
   },
   "source": [
    "## Ejemplo 1, suma de dos variables\n",
    "El siguiente ejemplo utiliza dos variables valueOne y valueTwo. Se declara un tensor con nombre \"tensor\", la operacion asociada es una suma \"tf.add\".\n",
    "Dentro de la sessión se asignan los valores a los parámetros del tensor. sess.run(tensor,feed_dict={parametroA: valorA}).   feed_dict es un argumento utilizado para especificar los valores de los parametros del tensor, por ejemplo, al parametroA se le asigna el valorA."
   ]
  },
  {
   "cell_type": "code",
   "execution_count": 4,
   "metadata": {
    "collapsed": false
   },
   "outputs": [
    {
     "name": "stdout",
     "output_type": "stream",
     "text": [
      "30\n"
     ]
    }
   ],
   "source": [
    "import tensorflow as tf\n",
    "valueOne = tf.placeholder(\"int16\")\n",
    "valueTwo = tf.placeholder(tf.int16)\n",
    "tensor = tf.add(valueOne,valueTwo)\n",
    "with tf.Session() as sess:\n",
    "    result= sess.run(tensor,feed_dict={valueOne:10,valueTwo:20})\n",
    "    print(result)"
   ]
  },
  {
   "cell_type": "code",
   "execution_count": 0,
   "metadata": {
    "collapsed": false
   },
   "outputs": [
   ],
   "source": [
    "# Ejemplo 2, generar numero aleatorios.\n",
    "Los numero son generados con la operacion random.normal(media,desviación estándard)."
   ]
  },
  {
   "cell_type": "code",
   "execution_count": 3,
   "metadata": {
    "collapsed": false
   },
   "outputs": [
    {
     "name": "stdout",
     "output_type": "stream",
     "text": [
      "[17.49751427 12.68302501]\n"
     ]
    }
   ],
   "source": [
    "import numpy as np\n",
    "# https://support.minitab.com/es-mx/minitab/18/help-and-how-to/statistics/basic-statistics/supporting-topics/normality/what-is-the-normal-distribution/\n",
    "# https://es.wikipedia.org/wiki/Distribuci%C3%B3n_normal\n",
    "# https://stackoverflow.com/questions/16312006/python-numpy-random-normal-only-positive-values\n",
    "\n",
    "# media, desviación, forma-shape de resultado\n",
    "print(np.random.normal(15,3,[2]))\n"
   ]
  },
  {
   "cell_type": "code",
   "execution_count": 5,
   "metadata": {
    "collapsed": false
   },
   "outputs": [
    {
     "name": "stdout",
     "output_type": "stream",
     "text": [
      "0.10842282707\n"
     ]
    }
   ],
   "source": [
    "import numpy as np\n",
    "print(np.random.random())"
   ]
  },
  {
   "cell_type": "code",
   "execution_count": 6,
   "metadata": {
    "collapsed": false,
    "scrolled": true
   },
   "outputs": [
    {
     "name": "stdout",
     "output_type": "stream",
     "text": [
      "Llenar vector con 10 numeros\n",
      "Mostrar vectos de 10 numeros\n",
      "Numero 0 valor [11.679451989917943, 21.652967928225547]\n",
      "Numero 1 valor [8.541538692249542, 25.99428603022753]\n",
      "Numero 2 valor [10.909726985995988, 15.768421946050768]\n",
      "Numero 3 valor [6.5693864901877985, 24.041771622637423]\n",
      "Numero 4 valor [9.469407521823246, 18.323923875562826]\n",
      "Numero 5 valor [12.536111483592773, 21.178373522796356]\n",
      "Numero 6 valor [8.387642800149052, 18.93222305762641]\n",
      "Numero 7 valor [12.721436649974407, 21.194845634140357]\n",
      "Numero 8 valor [14.082521610016851, 17.715290646093823]\n",
      "Numero 9 valor [11.268560045348542, 21.73190002010266]\n"
     ]
    }
   ],
   "source": [
    "import numpy as np\n",
    "totalNumeros = 10\n",
    "vectorDeNumeros=[]\n",
    "\n",
    "def mostrarVectorDeNumeros():\n",
    "    print(\"Mostrar vectos de \"+str(len(vectorDeNumeros))+\" numeros\")\n",
    "    for numero in xrange(len(vectorDeNumeros)):\n",
    "        print(\"Numero \"+str(numero)+\" valor \"+str(vectorDeNumeros[numero]))\n",
    "\n",
    "def llenarVectorDeNumeros():\n",
    "    print(\"Llenar vector con \"+str(totalNumeros)+\" numeros\")\n",
    "    for numero in xrange(totalNumeros):\n",
    "        if np.random.random()>0.5:\n",
    "            numeroAleatorio = [np.random.normal(10,2),np.random.normal(20,3)]\n",
    "        else:\n",
    "            # 10 media y 2 desviacion estandar\n",
    "            numeroAleatorio = [np.random.normal(10,2),np.random.normal(20,3)]\n",
    "        vectorDeNumeros.append(numeroAleatorio)\n",
    "\n",
    "llenarVectorDeNumeros()\n",
    "mostrarVectorDeNumeros()"
   ]
  },
  {
   "cell_type": "code",
   "execution_count": 9,
   "metadata": {
    "collapsed": false
   },
   "outputs": [
    {
     "name": "stdout",
     "output_type": "stream",
     "text": [
      "[[0.3445572  0.6378672 ]\n",
      " [0.44574454 0.70488   ]]\n"
     ]
    }
   ],
   "source": [
    "import numpy as np\n",
    "# np.random.rand(filas, columnas)\n",
    "print(np.random.rand(2,2))\n"
   ]
  },
  {
   "cell_type": "code",
   "execution_count": 13,
   "metadata": {
    "collapsed": false
   },
   "outputs": [
    {
     "name": "stdout",
     "output_type": "stream",
     "text": [
      "[[[0. 0.]\n",
      "  [0. 0.]\n",
      "  [0. 0.]]\n",
      "\n",
      " [[0. 0.]\n",
      "  [0. 0.]\n",
      "  [0. 0.]]\n",
      "\n",
      " [[0. 0.]\n",
      "  [0. 0.]\n",
      "  [0. 0.]]\n",
      "\n",
      " [[0. 0.]\n",
      "  [0. 0.]\n",
      "  [0. 0.]]\n",
      "\n",
      " [[0. 0.]\n",
      "  [0. 0.]\n",
      "  [0. 0.]]]\n"
     ]
    }
   ],
   "source": [
    "import tensorflow as tf\n",
    "import numpy as np\n",
    "\n",
    "variableFloat = tf.placeholder(tf.float32, shape=[5,3,2])\n",
    "sess = tf.Session()\n",
    "print(sess.run(tf.zeros_like(variableFloat)))"
   ]
  },
  {
   "cell_type": "code",
   "execution_count": 10,
   "metadata": {
    "collapsed": false
   },
   "outputs": [
    {
     "name": "stdout",
     "output_type": "stream",
     "text": [
      "Tensor(\"zeros_like_1:0\", shape=(?, 4), dtype=float32)\n"
     ]
    }
   ],
   "source": [
    "import tensorflow as tf\n",
    "import numpy as np\n",
    "\n",
    "variableFloat = tf.placeholder(tf.float32, shape=[None,4])\n",
    "#variableInt = tf.placeholder(tf.int32, shape=[3])\n",
    "\n",
    "tensorInicializadoConValorCero = tf.zeros_like(variableFloat)\n",
    "#tensorInicializadoConValorUno = tf.ones(variableInt)\n",
    "\n",
    "sess = tf.Session()\n",
    "resultadoTensorConValorCero = sess.run(tensorInicializadoConValorCero, feed_dict={variableFloat: np.random.rand(3,4)})\n",
    "print(tensorInicializadoConValorCero)\n",
    "#resultadoTensorConValorUno = sess.run(tensorInicializadoConValorUno, feed_dict={variableInt: np.random.rand(3)})\n",
    "\n",
    "\n",
    "#print(\"Rsultado de vector inicializado con valor cero:\")\n",
    "#print(\"Shape: \"+str(tensorInicializadoConValorCero.shape))\n",
    "\n",
    "#print(\"Rsultado de vector inicializado con valor uno:\")\n",
    "#print(\"Shape: \"+str(tensorInicializadoConValorUno.shape))\n",
    "#print tensorInicializadoConValorUno"
   ]
  },
  {
   "cell_type": "code",
   "execution_count": 1,
   "metadata": {
    "collapsed": false
   },
   "outputs": [
    {
     "ename": "IndentationError",
     "evalue": "unexpected indent (<ipython-input-1-27f68a22eac9>, line 4)",
     "output_type": "error",
     "traceback": [
      "\u001b[0;36m  File \u001b[0;32m\"<ipython-input-1-27f68a22eac9>\"\u001b[0;36m, line \u001b[0;32m4\u001b[0m\n\u001b[0;31m    = tf.placeholder(tf.float32, shape=[None, 4])\u001b[0m\n\u001b[0m    ^\u001b[0m\n\u001b[0;31mIndentationError\u001b[0m\u001b[0;31m:\u001b[0m unexpected indent\n"
     ]
    }
   ],
   "source": [
    "import tensorflow as tf\n",
    "import numpy as np\n",
    "\n",
    " = tf.placeholder(tf.float32, shape=[None, 4])\n",
    "vector = tf.placeholder(tf.int32, shape=[4])\n",
    "\n",
    "tensorInicializadoConValorCero = tf.zeros_like(matriz)\n",
    "tensorInicializadoConValorUno = tf.ones(vector)\n",
    "\n",
    "print tensorInicializadoConValorCero.get_shape()\n",
    "\n",
    "with tf.Session() as sess:\n",
    "    resultadoConValoresCero = sess.run(matriz, feed_dict={matriz: np.random.rand(4, 4)})\n",
    "    resultadoConValoresUno = sess.run(vector, feed_dict={vector: np.random.rand(4)})\n",
    "\n",
    "    print resultadoConValoresCero\n",
    "    print resultadoConValoresUno"
   ]
  },
  {
   "cell_type": "code",
   "execution_count": 0,
   "metadata": {
    "collapsed": false
   },
   "outputs": [
   ],
   "source": [
   ]
  }
 ],
 "metadata": {
  "kernelspec": {
   "display_name": "Python 2 (SageMath)",
   "language": "python",
   "name": "python2"
  },
  "language_info": {
   "codemirror_mode": {
    "name": "ipython",
    "version": 2
   },
   "file_extension": ".py",
   "mimetype": "text/x-python",
   "name": "python",
   "nbconvert_exporter": "python",
   "pygments_lexer": "ipython2",
   "version": "2.7.15"
  }
 },
 "nbformat": 4,
 "nbformat_minor": 0
}