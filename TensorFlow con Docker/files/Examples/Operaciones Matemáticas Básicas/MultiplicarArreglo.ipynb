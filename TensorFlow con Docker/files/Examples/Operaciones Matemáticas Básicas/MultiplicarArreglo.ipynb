{
 "cells": [
  {
   "cell_type": "code",
   "execution_count": 1,
   "metadata": {
    "collapsed": false
   },
   "outputs": [
    {
     "name": "stdout",
     "output_type": "stream",
     "text": [
      "[[  2.   4.   6.]\n",
      " [  8.  10.  12.]]\n"
     ]
    }
   ],
   "source": [
    "import tensorflow as tf\n",
    "\n",
    "# Uso de un vector\n",
    "# tf.placeholder(\"tipo de dato\",[n filas, 3 columnas por fila])\n",
    "x = tf.placeholder(\"float\", [None, 3])\n",
    "# operacion, multiplicacion de los elementos del arreglo por 2\n",
    "y = x * 2\n",
    "\n",
    "\n",
    "with tf.Session() as session:\n",
    "# definir el arreglo\n",
    "    x_data = [[1, 2, 3],\n",
    "              [4, 5, 6],]\n",
    "    # iniciar el proceso de multiplicacion del arreglo\n",
    "    result = session.run(y, feed_dict={x: x_data})\n",
    "    #imprimir resultados\n",
    "    print(result)"
   ]
  },
  {
   "cell_type": "code",
   "execution_count": null,
   "metadata": {
    "collapsed": true
   },
   "outputs": [],
   "source": []
  }
 ],
 "metadata": {
  "kernelspec": {
   "display_name": "Python 2",
   "language": "python",
   "name": "python2"
  },
  "language_info": {
   "codemirror_mode": {
    "name": "ipython",
    "version": 2
   },
   "file_extension": ".py",
   "mimetype": "text/x-python",
   "name": "python",
   "nbconvert_exporter": "python",
   "pygments_lexer": "ipython2",
   "version": "2.7.6"
  }
 },
 "nbformat": 4,
 "nbformat_minor": 2
}
