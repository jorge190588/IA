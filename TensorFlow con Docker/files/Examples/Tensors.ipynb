{
 "cells": [
  {
   "cell_type": "code",
   "execution_count": 1,
   "metadata": {
    "collapsed": false
   },
   "outputs": [],
   "source": [
    "# TENSOR\n",
    "Es una estructura basica utilizada para representar los datos.\n",
    "Un tensor tiene un tipo de datos y una dimension.\n",
    "\n",
    "Los tipos de datos pueden ser:\n",
    "TIPO EN TENSORFLOW     TIPO EN PYTHON\n",
    "DT_FLOAT               tf.float32\n",
    "DT_INT16               tf.int16\n",
    "DT_INT32               tf.int32\n",
    "DT_INT64               tf.int64\n",
    "DT_STRING              tf.string\n",
    "DT_BOOL                tf.bool\n",
    "\n",
    "La dimension de un tensor esta identificada por un rango o rank, el rank es el numero de dimensiones de un tensor\n",
    "Un tensor con rank 0 es un valor escalar, rank 1 es un vector, rank 2 es una matriz.\n",
    "Se usan tres tipos de convenciones notacionales para describir la dimension de un tensor: \n",
    "rank\n",
    "shape o forma\n",
    "Dimension Number o numero de dimensiones\n",
    "\n",
    "A continuación se detallan las conveciones notacionales para describir la dimensión de un tensor:\n",
    "| SHAPE      | RANK | DIMENSION NUMBER|\n",
    "| ------     | ---- | ------          |\n",
    "| []         |  0   |      0-D        |\n",
    "| [D0]       |  1   |      1-D        |\n",
    "| [D0,D1]    |  2   |      2-D        |\n",
    "| [D0,D1,D2] |  3   |      3-D        |\n",
    "| [D0,D1,Dn] |  n   |      n-D        |\n",
    "\n",
    "\n",
    "References:\n",
    "https://www.tensorflow.org/programmers_guide/tensors"
   ]
  },
  {
   "cell_type": "code",
   "execution_count": 20,
   "metadata": {
    "collapsed": false
   },
   "outputs": [
    {
     "name": "stdout",
     "output_type": "stream",
     "text": [
      "12.0\n"
     ]
    }
   ],
   "source": [
    "# RANK 0, multiply constants\n",
    "import tensorflow as tf\n",
    "\n",
    "valueOne=tf.placeholder(\"float\")\n",
    "valueTwo=tf.placeholder(\"float\")\n",
    "\n",
    "tensor = tf.multiply(valueOne,valueTwo)\n",
    "\n",
    "sess=tf.Session()\n",
    "print sess.run(tensor,feed_dict={valueOne:3,valueTwo:4})"
   ]
  },
  {
   "cell_type": "code",
   "execution_count": 4,
   "metadata": {
    "collapsed": false
   },
   "outputs": [
    {
     "name": "stdout",
     "output_type": "stream",
     "text": [
      "[  4.   8.  12.  16.  20.]\n",
      "(5,)\n",
      "Tensor(\"Rank:0\", shape=(), dtype=int32)\n",
      "Tensor(\"Rank_1:0\", shape=(), dtype=int32)\n",
      "Tensor(\"Size:0\", shape=(), dtype=int32)\n"
     ]
    }
   ],
   "source": [
    "# RANK 1, multiply constant with vector\n",
    "import tensorflow as tf\n",
    "\n",
    "vector=tf.placeholder(\"float\",shape=[5])\n",
    "constantValue=tf.placeholder(\"float\")\n",
    "\n",
    "tensor = tf.multiply(vector,constantValue)\n",
    "\n",
    "with tf.Session() as sess:\n",
    "    result= sess.run(tensor,feed_dict={vector:[1,2,3,4,5],constantValue:4})\n",
    "    print(result)\n",
    "    print(result.shape)\n",
    "    print(tf.rank(result))\n",
    "    print(tf.rank(constantValue))\n",
    "    print(tf.size(result))"
   ]
  },
  {
   "cell_type": "code",
   "execution_count": 5,
   "metadata": {
    "collapsed": false
   },
   "outputs": [
    {
     "name": "stdout",
     "output_type": "stream",
     "text": [
      "[[ 4.  4.]\n",
      " [ 8.  8.]]\n",
      "(2, 2)\n",
      "Tensor(\"Rank_2:0\", shape=(), dtype=int32)\n",
      "Tensor(\"Rank_3:0\", shape=(), dtype=int32)\n",
      "Tensor(\"Rank_4:0\", shape=(), dtype=int32)\n",
      "Tensor(\"Size_1:0\", shape=(), dtype=int32)\n"
     ]
    }
   ],
   "source": [
    "# RANK 2, multiply constant with matriz\n",
    "import tensorflow as tf\n",
    "\n",
    "matriz=tf.placeholder(\"float\",shape=[2,2])\n",
    "constantValue=tf.placeholder(\"float\")\n",
    "\n",
    "tensor = tf.multiply(matriz,constantValue)\n",
    "\n",
    "with tf.Session() as sess:\n",
    "    result= sess.run(tensor,feed_dict={matriz:[[1,1],[2,2]],constantValue:4})\n",
    "    print(result)\n",
    "    print(result.shape)\n",
    "    print(tf.rank(result))\n",
    "    print(tf.rank(matriz))\n",
    "    print(tf.rank(constantValue))\n",
    "    print(tf.size(result))"
   ]
  },
  {
   "cell_type": "code",
   "execution_count": 10,
   "metadata": {
    "collapsed": false
   },
   "outputs": [
    {
     "name": "stdout",
     "output_type": "stream",
     "text": [
      "[[[  0.40000001   4.           4.        ]\n",
      "  [  8.           8.           8.        ]\n",
      "  [ 12.          12.          12.        ]\n",
      "  [ 16.          16.          16.        ]]\n",
      "\n",
      " [[  0.40000001   4.           4.        ]\n",
      "  [  8.           8.           8.        ]\n",
      "  [ 12.          12.          12.        ]\n",
      "  [ 16.          16.          16.        ]]]\n",
      "(2, 4, 3)\n",
      "Tensor(\"Rank_8:0\", shape=(), dtype=int32)\n",
      "Tensor(\"Rank_9:0\", shape=(), dtype=int32)\n",
      "Tensor(\"Rank_10:0\", shape=(), dtype=int32)\n",
      "Tensor(\"Size_3:0\", shape=(), dtype=int32)\n"
     ]
    }
   ],
   "source": [
    "# RANK 3, multiply constant with tensor RANK 3\n",
    "import tensorflow as tf\n",
    "\n",
    "# shape[tensor,columna,fila]\n",
    "tensorValue=tf.placeholder(\"float\",shape=[2,4,3])\n",
    "constantValue=tf.placeholder(\"float\")\n",
    "\n",
    "tensor = tf.multiply(tensorValue,constantValue)\n",
    "\n",
    "with tf.Session() as sess:\n",
    "    result= sess.run(tensor,feed_dict={tensorValue:[ [[0.1,1,1],[2,2,2],[3,3,3],[4,4,4]],[[0.1,1,1],[2,2,2],[3,3,3],[4,4,4]] ],constantValue:4})\n",
    "    print(result)\n",
    "    print(result.shape)\n",
    "    print(tf.rank(result))\n",
    "    print(tf.rank(matriz))\n",
    "    print(tf.rank(constantValue))\n",
    "    print(tf.size(result))"
   ]
  },
  {
   "cell_type": "code",
   "execution_count": 8,
   "metadata": {
    "collapsed": false
   },
   "outputs": [
    {
     "name": "stdout",
     "output_type": "stream",
     "text": [
      "jorge santos\n"
     ]
    }
   ],
   "source": [
    "# RANK 0, strings\n",
    "import tensorflow as tf\n",
    "\n",
    "userName=tf.Variable(\"string\")\n",
    "tensor = userName\n",
    "\n",
    "with tf.Session() as sess:\n",
    "    result= sess.run(tensor,feed_dict={userName:\"jorge santos\"})\n",
    "    print(result)"
   ]
  },
  {
   "cell_type": "code",
   "execution_count": 9,
   "metadata": {
    "collapsed": false
   },
   "outputs": [
    {
     "name": "stdout",
     "output_type": "stream",
     "text": [
      "['Jorge' 'Santos']\n"
     ]
    }
   ],
   "source": [
    "# RANK 1, strings\n",
    "import tensorflow as tf\n",
    "\n",
    "userNames=tf.Variable([\"\",\"\"], tf.string)\n",
    "\n",
    "tensor = userNames\n",
    "\n",
    "with tf.Session() as sess:\n",
    "    result= sess.run(tensor,feed_dict={userNames:[\"Jorge\",\"Santos\"]})\n",
    "    print(result)"
   ]
  }
 ],
 "metadata": {
  "kernelspec": {
   "display_name": "Python 2",
   "language": "python",
   "name": "python2"
  },
  "language_info": {
   "codemirror_mode": {
    "name": "ipython",
    "version": 2
   },
   "file_extension": ".py",
   "mimetype": "text/x-python",
   "name": "python",
   "nbconvert_exporter": "python",
   "pygments_lexer": "ipython2",
   "version": "2.7.6"
  }
 },
 "nbformat": 4,
 "nbformat_minor": 0
}
