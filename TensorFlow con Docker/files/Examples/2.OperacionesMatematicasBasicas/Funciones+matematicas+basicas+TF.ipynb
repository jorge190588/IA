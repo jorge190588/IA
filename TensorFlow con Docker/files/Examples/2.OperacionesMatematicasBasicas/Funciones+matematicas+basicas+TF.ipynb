{
 "cells": [
  {
   "cell_type": "markdown",
   "metadata": {},
   "source": [
    "# Carol Maitée Galindo Rodríguez y Thelma Judith Miranda Moreno"
   ]
  },
  {
   "cell_type": "markdown",
   "metadata": {},
   "source": [
    "# OPERACIONES PRINCIPALES"
   ]
  },
  {
   "cell_type": "markdown",
   "metadata": {},
   "source": [
    "## Multiplicación"
   ]
  },
  {
   "cell_type": "markdown",
   "metadata": {},
   "source": [
    "$A * B = C$"
   ]
  },
  {
   "cell_type": "markdown",
   "metadata": {},
   "source": [
    "<strong> Parámetros: </strong>\n",
    "<br/>\n",
    "<ul>\n",
    "<li type=\"disc\"><strong> x: </strong> Un Tensor. Debe ser uno de los siguientes tipos: half, float32, float64, uint8, int8, uint16, int16, int32, int64, complex64, complex128.</li>\n",
    "<li type=\"disc\"><strong>y:</strong> Un Tensor. Debe tener el mismo tipo que x.</li>\n",
    "<li type=\"disc\"><strong>name:</strong> Un nombre para la operación (opcional).</li>\n",
    "</ul>"
   ]
  },
  {
   "cell_type": "code",
   "execution_count": 78,
   "metadata": {},
   "outputs": [
    {
     "name": "stdout",
     "output_type": "stream",
     "text": [
      "11.2\n"
     ]
    }
   ],
   "source": [
    "#Importar la librería tensorflow\n",
    "import tensorflow as tf\n",
    "\n",
    "# tf.placeholder -> Inserta un marcador de posición para un tensor que siempre se alimentará.\n",
    "num1 = tf.placeholder(\"float\")\n",
    "num2 = tf.placeholder(\"float\")\n",
    "\n",
    "#Operacion MULTIPLICACION donde le enviamos dos parametros. \n",
    "y=tf.multiply(num1,num2)\n",
    "\n",
    "#tf.Session -> Una clase para ejecutar operaciones TensorFlow.\n",
    "sess = tf.Session()\n",
    "\n",
    "#Alimentando el valor de tf.placeholder con el feed_dict -> argumento opcional a Session.run(), Tensor.eval()o Operation.run().\n",
    "#En este caso se le asignan los valores a cada parámetro\n",
    "print sess.run(y, feed_dict={num1: 3.2, num2: 3.5})"
   ]
  },
  {
   "cell_type": "markdown",
   "metadata": {},
   "source": [
    "## Suma"
   ]
  },
  {
   "cell_type": "markdown",
   "metadata": {},
   "source": [
    "$A + B = C$"
   ]
  },
  {
   "cell_type": "markdown",
   "metadata": {},
   "source": [
    "<strong> Parámetros: </strong>\n",
    "<br/>\n",
    "<ul>\n",
    "<li type=\"disc\"><strong> x: </strong> Un Tensor. Debe ser uno de los siguientes tipos: half, float32, float64, uint8, int8, int16, int32, int64, complex64, complex128, string.</li>\n",
    "<li type=\"disc\"><strong>y:</strong> Un Tensor. Debe tener el mismo tipo que x.</li>\n",
    "<li type=\"disc\"><strong>name:</strong> Un nombre para la operación (opcional).</li>\n",
    "</ul>"
   ]
  },
  {
   "cell_type": "code",
   "execution_count": 79,
   "metadata": {},
   "outputs": [
    {
     "name": "stdout",
     "output_type": "stream",
     "text": [
      "Suma tipo float\n",
      "6.5\n",
      "Suma tipo int64\n",
      "13\n",
      "Suma tipo string\n",
      "hola mundo\n"
     ]
    }
   ],
   "source": [
    "#Importar la librería tensorflow\n",
    "import tensorflow as tf\n",
    "\n",
    "# tf.placeholder -> Inserta un marcador de posición para un tensor que siempre se alimentará.\n",
    "num1 = tf.placeholder(\"float\") \n",
    "num2 = tf.placeholder(\"float\")\n",
    "num3 = tf.placeholder(\"int64\")\n",
    "num4 = tf.placeholder(\"int64\")\n",
    "num5 = tf.placeholder(\"string\")\n",
    "num6 = tf.placeholder(\"string\")\n",
    "\n",
    "#Operacion SUMA donde le enviamos dos parametros. \n",
    "y=tf.add(num1,num2)\n",
    "z=tf.add(num3,num4)\n",
    "a=tf.add(num5,num6)\n",
    "\n",
    "#tf.Session -> Una clase para ejecutar operaciones TensorFlow.\n",
    "sess = tf.Session()\n",
    "\n",
    "#Imprimir Texto\n",
    "print(\"Suma tipo float\")\n",
    "\n",
    "#Alimentando el valor de tf.placeholder con el feed_dict -> argumento opcional a Session.run(), Tensor.eval()o Operation.run().\n",
    "#En este caso se le asignan los valores a cada parámetro\n",
    "print sess.run(y, feed_dict={num1: 3.2, num2: 3.3})\n",
    "\n",
    "print(\"Suma tipo int64\")\n",
    "print sess.run(z, feed_dict={num3:8 , num4: 5})\n",
    "print(\"Suma tipo string\")\n",
    "print sess.run(a, feed_dict={num5:'hola ', num6: 'mundo'})"
   ]
  },
  {
   "cell_type": "markdown",
   "metadata": {},
   "source": [
    "## Resta"
   ]
  },
  {
   "cell_type": "markdown",
   "metadata": {},
   "source": [
    "$A - B = C$"
   ]
  },
  {
   "cell_type": "markdown",
   "metadata": {},
   "source": [
    "<strong> Parámetros: </strong>\n",
    "<br/>\n",
    "<ul>\n",
    "<li type=\"disc\"><strong> x: </strong> Un Tensor. Debe ser uno de los siguientes tipos: half, float32, float64, int32, int64, complex64, complex128.</li>\n",
    "<li type=\"disc\"><strong>y:</strong> Un Tensor. Debe tener el mismo tipo que x.</li>\n",
    "<li type=\"disc\"><strong>name:</strong> Un nombre para la operación (opcional).</li>\n",
    "</ul>"
   ]
  },
  {
   "cell_type": "code",
   "execution_count": 80,
   "metadata": {},
   "outputs": [
    {
     "name": "stdout",
     "output_type": "stream",
     "text": [
      "0.0\n"
     ]
    }
   ],
   "source": [
    "#Importar la librería tensorflow\n",
    "import tensorflow as tf\n",
    "\n",
    "# tf.placeholder -> Inserta un marcador de posición para un tensor que siempre se alimentará.\n",
    "num1 = tf.placeholder(\"float\")\n",
    "num2 = tf.placeholder(\"float\")\n",
    "\n",
    "#Operacion RESTA donde le enviamos dos parametros. \n",
    "y=tf.subtract(num1,num2)\n",
    "\n",
    "#tf.Session -> Una clase para ejecutar operaciones TensorFlow.\n",
    "sess = tf.Session()\n",
    "\n",
    "#Alimentando el valor de tf.placeholder con el feed_dict -> argumento opcional a Session.run(), Tensor.eval()o Operation.run().\n",
    "#En este caso se le asignan los valores a cada parámetro\n",
    "print sess.run(y, feed_dict={num1: 3, num2: 3})"
   ]
  },
  {
   "cell_type": "markdown",
   "metadata": {},
   "source": [
    "## División"
   ]
  },
  {
   "cell_type": "markdown",
   "metadata": {},
   "source": [
    "$A / B = C$ (devuelve el cociente)"
   ]
  },
  {
   "cell_type": "markdown",
   "metadata": {},
   "source": [
    "<p> Esta función divide x y y, forzando la semántica de Python 2.7. Es decir, si uno de x o y es un dato tipo float, entonces el resultado será un dato tipo float. De lo contrario, la salida será un tipo entero. La semántica de pisos se utiliza para la división entera.</p>\n",
    "<br/>\n",
    "<strong> Parámetros: </strong>\n",
    "<br/>\n",
    "<ul>\n",
    "<li type=\"disc\"><strong> x: </strong> Tensor -> numerador de tipo numérico real.</li>\n",
    "<li type=\"disc\"><strong>y:</strong> Tensor -> denominador de tipo numérico real.</li>\n",
    "<li type=\"disc\"><strong>name:</strong> Un nombre para la operación (opcional).</li>\n",
    "</ul>"
   ]
  },
  {
   "cell_type": "code",
   "execution_count": 81,
   "metadata": {},
   "outputs": [
    {
     "name": "stdout",
     "output_type": "stream",
     "text": [
      "1.06667\n"
     ]
    }
   ],
   "source": [
    "#Importar la librería tensorflow\n",
    "import tensorflow as tf\n",
    "\n",
    "# tf.placeholder -> Inserta un marcador de posición para un tensor que siempre se alimentará.\n",
    "num1 = tf.placeholder(\"float\")\n",
    "num2 = tf.placeholder(\"float\")\n",
    "\n",
    "#Operacion DIVISION donde le enviamos dos parametros. \n",
    "y=tf.div(num1,num2)\n",
    "\n",
    "#tf.Session -> Una clase para ejecutar operaciones TensorFlow.\n",
    "sess = tf.Session()\n",
    "\n",
    "#Alimentando el valor de tf.placeholder con el feed_dict -> argumento opcional a Session.run(), Tensor.eval()o Operation.run().\n",
    "#En este caso se le asignan los valores a cada parámetro\n",
    "print sess.run(y, feed_dict={num1: 3.2, num2: 3})"
   ]
  },
  {
   "cell_type": "markdown",
   "metadata": {},
   "source": [
    "## Modal"
   ]
  },
  {
   "cell_type": "markdown",
   "metadata": {},
   "source": [
    "$A / B = C$ (devuelve el residuo)"
   ]
  },
  {
   "cell_type": "markdown",
   "metadata": {},
   "source": [
    "<p>Devuelve el residuo de la división en función de los elementos.</p>\n",
    "<br/>\n",
    "<strong> Parámetros: </strong>\n",
    "<br/>\n",
    "<ul>\n",
    "<li type=\"disc\"><strong> x: </strong> Un Tensor. Debe ser uno de los siguientes tipos: int32, int64, float32, float64.</li>\n",
    "<li type=\"disc\"><strong>y:</strong> Un Tensor. Debe tener el mismo tipo que x.</li>\n",
    "<li type=\"disc\"><strong>name:</strong> Un nombre para la operación (opcional).</li>\n",
    "</ul>"
   ]
  },
  {
   "cell_type": "code",
   "execution_count": 82,
   "metadata": {},
   "outputs": [
    {
     "name": "stdout",
     "output_type": "stream",
     "text": [
      "0.2\n"
     ]
    }
   ],
   "source": [
    "#Importar la librería tensorflow\n",
    "import tensorflow as tf\n",
    "\n",
    "# tf.placeholder -> Inserta un marcador de posición para un tensor que siempre se alimentará.\n",
    "num1 = tf.placeholder(\"float\")\n",
    "num2 = tf.placeholder(\"float\")\n",
    "\n",
    "#Operacion MODAL donde le enviamos dos parametros. \n",
    "y=tf.mod(num1,num2)\n",
    "\n",
    "#tf.Session -> Una clase para ejecutar operaciones TensorFlow.\n",
    "sess = tf.Session()\n",
    "\n",
    "#Alimentando el valor de tf.placeholder con el feed_dict -> argumento opcional a Session.run(), Tensor.eval()o Operation.run().\n",
    "#En este caso se le asignan los valores a cada parámetro\n",
    "print sess.run(y, feed_dict={num1: 3.2, num2: 3})"
   ]
  },
  {
   "cell_type": "markdown",
   "metadata": {},
   "source": [
    "## Valor Absoluto"
   ]
  },
  {
   "cell_type": "markdown",
   "metadata": {},
   "source": [
    "$y = | x |$"
   ]
  },
  {
   "cell_type": "markdown",
   "metadata": {},
   "source": [
    "<p>Dado un tensor de números reales x, esta operación devuelve un tensor que contiene el valor absoluto de cada elemento en x. Por ejemplo, si \"x\" es un elemento de entrada y \"y\" es un elemento de salida, esta operación calcula el valor absoluto de x.</p>\n",
    "<br/>\n",
    "<strong> Parámetros: </strong>\n",
    "<br/>\n",
    "<ul>\n",
    "<li type=\"disc\"><strong> x: </strong> Un Tensor o SparseTensor de tipo float32, float64, int32, o int64.</li>\n",
    "<li type=\"disc\"><strong>name:</strong> Un nombre para la operación (opcional).</li>\n",
    "</ul>"
   ]
  },
  {
   "cell_type": "code",
   "execution_count": 83,
   "metadata": {},
   "outputs": [
    {
     "name": "stdout",
     "output_type": "stream",
     "text": [
      "2.25\n"
     ]
    }
   ],
   "source": [
    "#Importar la librería tensorflow\n",
    "import tensorflow as tf\n",
    "\n",
    "# tf.placeholder -> Inserta un marcador de posición para un tensor que siempre se alimentará.\n",
    "num1 = tf.placeholder(\"float\")\n",
    "\n",
    "#Operacion ABS donde le enviamos un parametro. \n",
    "y=tf.abs(num1)\n",
    "\n",
    "#tf.Session -> Una clase para ejecutar operaciones TensorFlow.\n",
    "sess = tf.Session()\n",
    "\n",
    "#Alimentando el valor de tf.placeholder con el feed_dict -> argumento opcional a Session.run(), Tensor.eval()o Operation.run().\n",
    "#En este caso se le asigna el valor al parámetro\n",
    "print sess.run(y, feed_dict={num1:-2.25})"
   ]
  },
  {
   "cell_type": "markdown",
   "metadata": {},
   "source": [
    "## Valor negativo"
   ]
  },
  {
   "cell_type": "markdown",
   "metadata": {},
   "source": [
    "$y = -x$"
   ]
  },
  {
   "cell_type": "markdown",
   "metadata": {},
   "source": [
    "<p>Calcula el valor numérico negativo en función del elemento.</p>\n",
    "<br/>\n",
    "<strong> Parámetros: </strong>\n",
    "<br/>\n",
    "<ul>\n",
    "<li type=\"disc\"><strong> x: </strong> Un Tensor. Debe ser uno de los siguientes tipos: half, float32, float64, int32, int64, complex64, complex128.</li>\n",
    "<li type=\"disc\"><strong>name:</strong> Un nombre para la operación (opcional).</li>\n",
    "</ul>"
   ]
  },
  {
   "cell_type": "code",
   "execution_count": 84,
   "metadata": {},
   "outputs": [
    {
     "name": "stdout",
     "output_type": "stream",
     "text": [
      "-2.25\n"
     ]
    }
   ],
   "source": [
    "#Importar la librería tensorflow\n",
    "import tensorflow as tf\n",
    "\n",
    "# tf.placeholder -> Inserta un marcador de posición para un tensor que siempre se alimentará.\n",
    "num1 = tf.placeholder(\"float\")\n",
    "\n",
    "#Operacion NEGATIVE donde le enviamos un parámetro. \n",
    "y=tf.negative(num1)\n",
    "\n",
    "#tf.Session -> Una clase para ejecutar operaciones TensorFlow.\n",
    "sess = tf.Session()\n",
    "\n",
    "#Alimentando el valor de tf.placeholder con el feed_dict -> argumento opcional a Session.run(), Tensor.eval()o Operation.run().\n",
    "#En este caso se le asigna el valor al parámetro\n",
    "print sess.run(y, feed_dict={num1:2.25})"
   ]
  },
  {
   "cell_type": "markdown",
   "metadata": {},
   "source": [
    "## Retorna el signo"
   ]
  },
  {
   "cell_type": "markdown",
   "metadata": {},
   "source": [
    "$y = sign(x) = -1$ si $x < 0$; $0$ si $x == 0$; $1$ si $x > 0$.\n",
    "\n",
    "Para números complejos, $y = sign(x)$ $=$ $x$ $/$ $|x|$ si $x != 0$, de lo contrario $y = 0$."
   ]
  },
  {
   "cell_type": "markdown",
   "metadata": {},
   "source": [
    "<p> Devuelve una indicación del signo de un número. </p>\n",
    "<br/>\n",
    "<strong> Parámetros: </strong>\n",
    "<br/>\n",
    "<ul>\n",
    "<li type=\"disc\"><strong> x: </strong> Un Tensor o SparseTensor. Debe ser uno de los siguientes tipos: half, float32, float64, int32, int64, complex64, complex128.</li>\n",
    "<li type=\"disc\"><strong>name:</strong> Un nombre para la operación (opcional).</li>\n",
    "</ul>"
   ]
  },
  {
   "cell_type": "code",
   "execution_count": 85,
   "metadata": {},
   "outputs": [
    {
     "name": "stdout",
     "output_type": "stream",
     "text": [
      "-1.0\n"
     ]
    }
   ],
   "source": [
    "#Importar la librería tensorflow\n",
    "import tensorflow as tf\n",
    "\n",
    "# tf.placeholder -> Inserta un marcador de posición para un tensor que siempre se alimentará.\n",
    "num1 = tf.placeholder(\"float\")\n",
    "\n",
    "#Operacion SIGN donde le enviamos un parámetro. \n",
    "y=tf.sign(num1)\n",
    "\n",
    "#tf.Session -> Una clase para ejecutar operaciones TensorFlow.\n",
    "sess = tf.Session()\n",
    "\n",
    "#Alimentando el valor de tf.placeholder con el feed_dict -> argumento opcional a Session.run(), Tensor.eval()o Operation.run().\n",
    "#En este caso se le asigna el valor al parámetro\n",
    "print sess.run(y, feed_dict={num1: -3})"
   ]
  },
  {
   "cell_type": "markdown",
   "metadata": {},
   "source": [
    "## Valor recíproco"
   ]
  },
  {
   "cell_type": "markdown",
   "metadata": {},
   "source": [
    "$y=1/x$"
   ]
  },
  {
   "cell_type": "markdown",
   "metadata": {},
   "source": [
    "<p>Calcula el recíproco de x. </p>\n",
    "<br/>\n",
    "<strong> Parámetros: </strong>\n",
    "<br/>\n",
    "<ul>\n",
    "<li type=\"disc\"><strong> x: </strong>  Un Tensor. Debe ser uno de los siguientes tipos: half, float32, float64, int32, int64, complex64, complex128.</li>\n",
    "<li type=\"disc\"><strong>name:</strong> Un nombre para la operación (opcional).</li>\n",
    "</ul>"
   ]
  },
  {
   "cell_type": "code",
   "execution_count": 86,
   "metadata": {},
   "outputs": [
    {
     "name": "stdout",
     "output_type": "stream",
     "text": [
      "-0.333333\n"
     ]
    }
   ],
   "source": [
    "#Importar la librería tensorflow\n",
    "import tensorflow as tf\n",
    "\n",
    "# tf.placeholder -> Inserta un marcador de posición para un tensor que siempre se alimentará.\n",
    "num1 = tf.placeholder(\"float\")\n",
    "\n",
    "#Operacion RECIPROCAL donde le enviamos un parámetro. \n",
    "y=tf.reciprocal(num1)\n",
    "\n",
    "#tf.Session -> Una clase para ejecutar operaciones TensorFlow.\n",
    "sess = tf.Session()\n",
    "\n",
    "#Alimentando el valor de tf.placeholder con el feed_dict -> argumento opcional a Session.run(), Tensor.eval()o Operation.run().\n",
    "#En este caso se le asigna el valor al parámetro\n",
    "print sess.run(y, feed_dict={num1: -3})"
   ]
  },
  {
   "cell_type": "markdown",
   "metadata": {},
   "source": [
    "## Cuadrado"
   ]
  },
  {
   "cell_type": "markdown",
   "metadata": {},
   "source": [
    "$y=x*x=x²$"
   ]
  },
  {
   "cell_type": "markdown",
   "metadata": {},
   "source": [
    "<p>Calcula el cuadrado de x. </p>\n",
    "<br/>\n",
    "<strong> Parámetros: </strong>\n",
    "<br/>\n",
    "<ul>\n",
    "<li type=\"disc\"><strong> x: </strong> Un Tensor o SparseTensor. Debe ser uno de los siguientes tipos: half, float32, float64, int32, int64, complex64, complex128. </li>\n",
    "<li type=\"disc\"><strong>name:</strong> Un nombre para la operación (opcional).</li>\n",
    "</ul>"
   ]
  },
  {
   "cell_type": "code",
   "execution_count": 87,
   "metadata": {},
   "outputs": [
    {
     "name": "stdout",
     "output_type": "stream",
     "text": [
      "9.0\n"
     ]
    }
   ],
   "source": [
    "#Importar la librería tensorflow\n",
    "import tensorflow as tf\n",
    "\n",
    "# tf.placeholder -> Inserta un marcador de posición para un tensor que siempre se alimentará.\n",
    "num1 = tf.placeholder(\"float\")\n",
    "\n",
    "#Operacion CUADRADO donde le enviamos un parámetro. \n",
    "y=tf.square(num1)\n",
    "\n",
    "#tf.Session -> Una clase para ejecutar operaciones TensorFlow.\n",
    "sess = tf.Session()\n",
    "\n",
    "#Alimentando el valor de tf.placeholder con el feed_dict -> argumento opcional a Session.run(), Tensor.eval()o Operation.run().\n",
    "#En este caso se le asigna el valor al parámetro\n",
    "print sess.run(y, feed_dict={num1: -3})"
   ]
  },
  {
   "cell_type": "markdown",
   "metadata": {},
   "source": [
    "## Redondear"
   ]
  },
  {
   "cell_type": "markdown",
   "metadata": {},
   "source": [
    "'a' = [0.9, 2.5, 2.3, 1.5, -4.5]\n",
    "tf.round(a) ==> [ 1.0, 2.0, 2.0, 2.0, -4.0 ]"
   ]
  },
  {
   "cell_type": "markdown",
   "metadata": {},
   "source": [
    "<p>Aproxima los valores de un tensor al número entero más próximo, en función de los elementos. </p>\n",
    "<br/>\n",
    "<strong> Parámetros: </strong>\n",
    "<br/>\n",
    "<ul>\n",
    "<li type=\"disc\"><strong> x: </strong> Un Tensor de tipo float32 o float64. </li>\n",
    "<li type=\"disc\"><strong>name:</strong> Un nombre para la operación (opcional).</li>\n",
    "</ul>"
   ]
  },
  {
   "cell_type": "code",
   "execution_count": 88,
   "metadata": {},
   "outputs": [
    {
     "name": "stdout",
     "output_type": "stream",
     "text": [
      "4.0\n"
     ]
    }
   ],
   "source": [
    "#Importar la librería tensorflow\n",
    "import tensorflow as tf\n",
    "\n",
    "# tf.placeholder -> Inserta un marcador de posición para un tensor que siempre se alimentará.\n",
    "num1 = tf.placeholder(\"float\")\n",
    "\n",
    "#Operacion REDONDEAR donde le enviamos un parámetro. \n",
    "y=tf.round(num1)\n",
    "\n",
    "#tf.Session -> Una clase para ejecutar operaciones TensorFlow.\n",
    "sess = tf.Session()\n",
    "\n",
    "#Alimentando el valor de tf.placeholder con el feed_dict -> argumento opcional a Session.run(), Tensor.eval()o Operation.run().\n",
    "#En este caso se le asigna el valor al parámetro\n",
    "print sess.run(y, feed_dict={num1: 3.56})"
   ]
  },
  {
   "cell_type": "markdown",
   "metadata": {},
   "source": [
    "## Raíz cuadrada"
   ]
  },
  {
   "cell_type": "markdown",
   "metadata": {},
   "source": [
    "$y = \\ sqrt (x) = x ^ {1/2}$ o $y=√x$"
   ]
  },
  {
   "cell_type": "markdown",
   "metadata": {},
   "source": [
    "<p>Calcula la raíz cuadrada de x. </p>\n",
    "<br/>\n",
    "<strong> Parámetros: </strong>\n",
    "<br/>\n",
    "<ul>\n",
    "<li type=\"disc\"><strong> x: </strong> Un Tensor o SparseTensor. Debe ser uno de los siguientes tipos: half, float32, float64, complex64, complex128. </li>\n",
    "<li type=\"disc\"><strong>name:</strong> Un nombre para la operación (opcional).</li>\n",
    "</ul>"
   ]
  },
  {
   "cell_type": "code",
   "execution_count": 89,
   "metadata": {},
   "outputs": [
    {
     "name": "stdout",
     "output_type": "stream",
     "text": [
      "12.0\n"
     ]
    }
   ],
   "source": [
    "#Importar la librería tensorflow\n",
    "import tensorflow as tf\n",
    "\n",
    "# tf.placeholder -> Inserta un marcador de posición para un tensor que siempre se alimentará.\n",
    "num1 = tf.placeholder(\"float\")\n",
    "\n",
    "#Operacion RAIZ CUADRADA donde le enviamos un parámetro. \n",
    "y=tf.sqrt(num1)\n",
    "\n",
    "#tf.Session -> Una clase para ejecutar operaciones TensorFlow.\n",
    "sess = tf.Session()\n",
    "\n",
    "#Alimentando el valor de tf.placeholder con el feed_dict -> argumento opcional a Session.run(), Tensor.eval()o Operation.run().\n",
    "#En este caso se le asigna el valor al parámetro\n",
    "print sess.run(y, feed_dict={num1: 144})"
   ]
  },
  {
   "cell_type": "markdown",
   "metadata": {},
   "source": [
    "## Potencia"
   ]
  },
  {
   "cell_type": "markdown",
   "metadata": {},
   "source": [
    "<p> Dado un tensor x y un tensor y, esta operación calcula $x ^ {y} $ para los elementos correspondientes en \"x\" y \"y\". "
   ]
  },
  {
   "cell_type": "markdown",
   "metadata": {},
   "source": [
    "<p>Calcula la potencia de un valor a otro. </p>\n",
    "<br/>\n",
    "<strong> Parámetros: </strong>\n",
    "<br/>\n",
    "<ul>\n",
    "<li type=\"disc\"><strong> x: </strong> Un Tensor de tipo float32, float64, int32, int64, complex64, o complex128. </li>\n",
    "<li type=\"disc\"><strong> y: </strong> Un Tensor de tipo float32, float64, int32, int64, complex64, o complex128. </li>\n",
    "<li type=\"disc\"><strong>name:</strong> Un nombre para la operación (opcional).</li>\n",
    "</ul>"
   ]
  },
  {
   "cell_type": "code",
   "execution_count": 90,
   "metadata": {},
   "outputs": [
    {
     "name": "stdout",
     "output_type": "stream",
     "text": [
      "4.0\n"
     ]
    }
   ],
   "source": [
    "#Importar la librería tensorflow\n",
    "import tensorflow as tf\n",
    "\n",
    "# tf.placeholder -> Inserta un marcador de posición para un tensor que siempre se alimentará.\n",
    "num1 = tf.placeholder(\"float\")\n",
    "num2 = tf.placeholder(\"float\")\n",
    "\n",
    "#Operacion POTENCIA donde le enviamos dos parámetros. \n",
    "y=tf.pow(num1, num2)\n",
    "\n",
    "#tf.Session -> Una clase para ejecutar operaciones TensorFlow.\n",
    "sess = tf.Session()\n",
    "\n",
    "#Alimentando el valor de tf.placeholder con el feed_dict -> argumento opcional a Session.run(), Tensor.eval()o Operation.run().\n",
    "#En este caso se le asignan los valores a cada parámetro\n",
    "print sess.run(y, feed_dict={num1: 2, num2: 2})"
   ]
  },
  {
   "cell_type": "markdown",
   "metadata": {},
   "source": [
    "## Exponencial"
   ]
  },
  {
   "cell_type": "markdown",
   "metadata": {},
   "source": [
    "$y = e^x$"
   ]
  },
  {
   "cell_type": "markdown",
   "metadata": {},
   "source": [
    "<p>Calcula exponencial de x. La función exponencial, es conocida formalmente como la función real ex, donde e es el número de Euler, aproximadamente 2.71828.</p>\n",
    "<br/>\n",
    "<strong> Parámetros: </strong>\n",
    "<br/>\n",
    "<ul>\n",
    "<li type=\"disc\"><strong> x: </strong> Un Tensor. Debe ser uno de los siguientes tipos: half, float32, float64, complex64, complex128.</li>\n",
    "<li type=\"disc\"><strong>name:</strong> Un nombre para la operación (opcional).</li>\n",
    "</ul>"
   ]
  },
  {
   "cell_type": "code",
   "execution_count": 91,
   "metadata": {},
   "outputs": [
    {
     "name": "stdout",
     "output_type": "stream",
     "text": [
      "2980.96\n"
     ]
    }
   ],
   "source": [
    "#Importar la librería tensorflow\n",
    "import tensorflow as tf\n",
    "\n",
    "# tf.placeholder -> Inserta un marcador de posición para un tensor que siempre se alimentará.\n",
    "num1 = tf.placeholder(\"float\")\n",
    "num2 = tf.placeholder(\"float\")\n",
    "\n",
    "#Operacion EXPONENCIAL donde le enviamos un parámetro. \n",
    "y=tf.exp(num1)\n",
    "\n",
    "#tf.Session -> Una clase para ejecutar operaciones TensorFlow.\n",
    "sess = tf.Session()\n",
    "\n",
    "#Alimentando el valor de tf.placeholder con el feed_dict -> argumento opcional a Session.run(), Tensor.eval()o Operation.run().\n",
    "#En este caso se le asigna el valor al parámetro\n",
    "print sess.run(y, feed_dict={num1:  8})"
   ]
  },
  {
   "cell_type": "markdown",
   "metadata": {},
   "source": [
    "## Logaritmo"
   ]
  },
  {
   "cell_type": "markdown",
   "metadata": {},
   "source": [
    "$y = \\log_e x$"
   ]
  },
  {
   "cell_type": "markdown",
   "metadata": {},
   "source": [
    "<p>Calcula el logaritmo natural de x. Exponente al que hay que elevar un número, llamado base, para obtener otro número determinado. En el caso del logaritmo natural es el Logaritmo que tiene por base el número e (2,718281828). </p>\n",
    "<p> El logaritmo natural de cualquier número positivo, n, es el exponente, x, al que se debe elevar e para que e x = n. Por ejemplo, e 2 = 7.389, por lo que el logaritmo natural de 7.389 es 2.</p>\n",
    "<br/>\n",
    "<strong> Parámetros: </strong>\n",
    "<br/>\n",
    "<ul>\n",
    "<li type=\"disc\"><strong> x: </strong>Un Tensor. Debe ser uno de los siguientes tipos: half, float32, float64, complex64, complex128. </li>\n",
    "<li type=\"disc\"><strong>name:</strong> Un nombre para la operación (opcional).</li>\n",
    "</ul>"
   ]
  },
  {
   "cell_type": "code",
   "execution_count": 92,
   "metadata": {},
   "outputs": [
    {
     "name": "stdout",
     "output_type": "stream",
     "text": [
      "1.99999\n"
     ]
    }
   ],
   "source": [
    "#Importar la librería tensorflow\n",
    "import tensorflow as tf\n",
    "\n",
    "# tf.placeholder -> Inserta un marcador de posición para un tensor que siempre se alimentará.\n",
    "num1 = tf.placeholder(\"float\")\n",
    "num2 = tf.placeholder(\"float\")\n",
    "\n",
    "#Operacion LOGARITMO donde le enviamos un parámetro. \n",
    "y=tf.log(num1)\n",
    "\n",
    "#tf.Session -> Una clase para ejecutar operaciones TensorFlow.\n",
    "sess = tf.Session()\n",
    "\n",
    "#Alimentando el valor de tf.placeholder con el feed_dict -> argumento opcional a Session.run(), Tensor.eval()o Operation.run().\n",
    "#En este caso se le asigna el valor al parámetro\n",
    "print sess.run(y, feed_dict={num1:  7.389})"
   ]
  },
  {
   "cell_type": "markdown",
   "metadata": {},
   "source": [
    "## Máximo"
   ]
  },
  {
   "cell_type": "markdown",
   "metadata": {},
   "source": [
    "$ x > y = x $ o en otro caso  $x < y = y$"
   ]
  },
  {
   "cell_type": "markdown",
   "metadata": {},
   "source": [
    "<p>Devuelve el máximo de \"x\" y \"y\" en función del elemento. </p>\n",
    "<br/>\n",
    "<strong> Parámetros: </strong>\n",
    "<br/>\n",
    "<ul>\n",
    "<li type=\"disc\"><strong> x: </strong>Un Tensor. Debe ser uno de los siguientes tipos: half, float32, float64, int32, int64. </li>\n",
    "<li type=\"disc\"><strong> y: </strong>Un Tensor. Debe tener el mismo tipo que x. </li>\n",
    "<li type=\"disc\"><strong>name:</strong> Un nombre para la operación (opcional).</li>\n",
    "</ul>"
   ]
  },
  {
   "cell_type": "code",
   "execution_count": 93,
   "metadata": {},
   "outputs": [
    {
     "name": "stdout",
     "output_type": "stream",
     "text": [
      "12.0\n"
     ]
    }
   ],
   "source": [
    "#Importar la librería tensorflow\n",
    "import tensorflow as tf\n",
    "\n",
    "# tf.placeholder -> Inserta un marcador de posición para un tensor que siempre se alimentará.\n",
    "num1 = tf.placeholder(\"float\")\n",
    "num2 = tf.placeholder(\"float\")\n",
    "\n",
    "#Operacion MÁXIMO donde le enviamos dos parámetros. \n",
    "y=tf.maximum(num1, num2)\n",
    "\n",
    "#tf.Session -> Una clase para ejecutar operaciones TensorFlow.\n",
    "sess = tf.Session()\n",
    "\n",
    "#Alimentando el valor de tf.placeholder con el feed_dict -> argumento opcional a Session.run(), Tensor.eval()o Operation.run().\n",
    "#En este caso se le asignan los valores a cada parámetro\n",
    "print sess.run(y, feed_dict={num1: 8, num2:12})"
   ]
  },
  {
   "cell_type": "markdown",
   "metadata": {},
   "source": [
    "## Mínimo"
   ]
  },
  {
   "cell_type": "markdown",
   "metadata": {},
   "source": [
    "$ x > y = y $ o en otro caso  $x < y = x$"
   ]
  },
  {
   "cell_type": "markdown",
   "metadata": {},
   "source": [
    "<p>Devuelve el mínimo de \"x\" y \"y\" en función del elemento. </p>\n",
    "<br/>\n",
    "<strong> Parámetros: </strong>\n",
    "<br/>\n",
    "<ul>\n",
    "<li type=\"disc\"><strong> x: </strong>Un Tensor. Debe ser uno de los siguientes tipos: half, float32, float64, int32, int64 </li>\n",
    "<li type=\"disc\"><strong> y: </strong>Una Tensor. Debe tener el mismo tipo que x. </li>\n",
    "<li type=\"disc\"><strong>name:</strong> Un nombre para la operación (opcional).</li>\n",
    "</ul>"
   ]
  },
  {
   "cell_type": "code",
   "execution_count": 94,
   "metadata": {},
   "outputs": [
    {
     "name": "stdout",
     "output_type": "stream",
     "text": [
      "8.0\n"
     ]
    }
   ],
   "source": [
    "#Importar la librería tensorflow\n",
    "import tensorflow as tf\n",
    "\n",
    "# tf.placeholder -> Inserta un marcador de posición para un tensor que siempre se alimentará.\n",
    "num1 = tf.placeholder(\"float\")\n",
    "num2 = tf.placeholder(\"float\")\n",
    "\n",
    "#Operacion MÍNIMO donde le enviamos dos parámetros. \n",
    "y=tf.minimum(num1, num2)\n",
    "\n",
    "#tf.Session -> Una clase para ejecutar operaciones TensorFlow.\n",
    "sess = tf.Session()\n",
    "\n",
    "#Alimentando el valor de tf.placeholder con el feed_dict -> argumento opcional a Session.run(), Tensor.eval()o Operation.run().\n",
    "#En este caso se le asignan los valores a cada parámetro\n",
    "print sess.run(y, feed_dict={num1: 8, num2:12})"
   ]
  },
  {
   "cell_type": "markdown",
   "metadata": {},
   "source": [
    "## Coseno"
   ]
  },
  {
   "cell_type": "markdown",
   "metadata": {},
   "source": [
    "$cos$ $⁡α=b/c$"
   ]
  },
  {
   "cell_type": "markdown",
   "metadata": {},
   "source": [
    "<p>Calcula coseno de x. El coseno (abreviado cos) de un ángulo agudo en un triángulo rectángulo se define como la razón entre el cateto adyacente a dicho ángulo y la hipotenusa </p>\n",
    "<br/>\n",
    "<strong> Parámetros: </strong>\n",
    "<br/>\n",
    "<ul>\n",
    "<li type=\"disc\"><strong> x: </strong>Un Tensor. Debe ser uno de los siguientes tipos: half, float32, float64, complex64, complex128. </li>\n",
    "<li type=\"disc\"><strong>name:</strong> Un nombre para la operación (opcional).</li>\n",
    "</ul>"
   ]
  },
  {
   "cell_type": "code",
   "execution_count": 95,
   "metadata": {},
   "outputs": [
    {
     "name": "stdout",
     "output_type": "stream",
     "text": [
      "1.0\n"
     ]
    }
   ],
   "source": [
    "#Importar la librería tensorflow\n",
    "import tensorflow as tf\n",
    "\n",
    "# tf.placeholder -> Inserta un marcador de posición para un tensor que siempre se alimentará.\n",
    "num1 = tf.placeholder(\"float\")\n",
    "\n",
    "#Operacion COSENO donde le enviamos un parámetro. \n",
    "y=tf.cos(num1)\n",
    "\n",
    "#tf.Session -> Una clase para ejecutar operaciones TensorFlow.\n",
    "sess = tf.Session()\n",
    "\n",
    "#Alimentando el valor de tf.placeholder con el feed_dict -> argumento opcional a Session.run(), Tensor.eval()o Operation.run().\n",
    "#En este caso se le asigna el valor al parámetro\n",
    "print sess.run(y, feed_dict={num1: 0})"
   ]
  },
  {
   "cell_type": "markdown",
   "metadata": {},
   "source": [
    "## Seno"
   ]
  },
  {
   "cell_type": "markdown",
   "metadata": {},
   "source": [
    "$sin$ $⁡α=a/c$"
   ]
  },
  {
   "cell_type": "markdown",
   "metadata": {},
   "source": [
    "<p>Calcula seno de x. El seno de un ángulo $⁡α$ en un triángulo rectángulo de ángulo $⁡α$ se define como la razón entre el cateto opuesto al ángulo y la hipotenusa </p>\n",
    "<br/>\n",
    "<strong> Parámetros: </strong>\n",
    "<br/>\n",
    "<ul>\n",
    "<li type=\"disc\"><strong> x: </strong>Un Tensor. Debe ser uno de los siguientes tipos: half, float32, float64, complex64, complex128. </li>\n",
    "<li type=\"disc\"><strong>name:</strong> Un nombre para la operación (opcional).</li>\n",
    "</ul>"
   ]
  },
  {
   "cell_type": "code",
   "execution_count": 96,
   "metadata": {},
   "outputs": [
    {
     "name": "stdout",
     "output_type": "stream",
     "text": [
      "-0.988032\n"
     ]
    }
   ],
   "source": [
    "#Importar la librería tensorflow\n",
    "import tensorflow as tf\n",
    "\n",
    "# tf.placeholder -> Inserta un marcador de posición para un tensor que siempre se alimentará.\n",
    "num1 = tf.placeholder(\"float\")\n",
    "\n",
    "#Operacion SENO donde le enviamos un parámetro. \n",
    "y=tf.sin(num1)\n",
    "\n",
    "#tf.Session -> Una clase para ejecutar operaciones TensorFlow.\n",
    "sess = tf.Session()\n",
    "\n",
    "#Alimentando el valor de tf.placeholder con el feed_dict -> argumento opcional a Session.run(), Tensor.eval()o Operation.run().\n",
    "#En este caso se le asigna el valor al parámetro\n",
    "print sess.run(y, feed_dict={num1: 30})"
   ]
  }
 ],
 "metadata": {
  "kernelspec": {
   "display_name": "Python 2",
   "language": "python",
   "name": "python2"
  },
  "language_info": {
   "codemirror_mode": {
    "name": "ipython",
    "version": 2
   },
   "file_extension": ".py",
   "mimetype": "text/x-python",
   "name": "python",
   "nbconvert_exporter": "python",
   "pygments_lexer": "ipython2",
   "version": "2.7.12"
  }
 },
 "nbformat": 4,
 "nbformat_minor": 2
}
