{
 "cells": [
  {
   "cell_type": "code",
   "execution_count": 1,
   "metadata": {
    "collapsed": false
   },
   "outputs": [],
   "source": [
    "#se importa la libreria de tensorflow\n",
    "import tensorflow as tf\n",
    "\n",
    "#asignacion de datos a variables.\n",
    "t1 = tf.constant([[1, 2, 3], [4, 5, 6]])\n",
    "t2 = tf.constant([[7, 8, 9], [10, 11, 12]])\n",
    "c = tf.constant([[[1, 1, 1], [2, 2, 2]], [[3, 3, 3], [4, 4, 4]]])\n",
    "d = tf.constant([1, 2, 3, 4, 5, 6, 7, 8])\n",
    "e = tf.constant([1, 2, 1, 3, 1, 1])\n",
    "f = tf.constant([[[1, 1, 1], [2, 2, 2]], [[3, 3, 3], [4, 4, 4]], [[5, 5, 5], [6, 6, 6]]])"
   ]
  },
  {
   "cell_type": "code",
   "execution_count": 2,
   "metadata": {
    "collapsed": false
   },
   "outputs": [],
   "source": [
    "# Para saber la forma de un tensor\n",
    "shape = tf.shape(c)\n",
    "#Para saber el número de elementos de un tensor\n",
    "size = tf.size(c)\n",
    "#Para saber el rango de un tensor\n",
    "rank = tf.rank(c)\n",
    "#Permite cambiar la forma de un tensor manteniendo los mismos elementos que contenía\n",
    "reshape = tf.reshape(d, [2, 4])\n",
    "#Permite borrar del tensor dimensiones de tamaño 1\n",
    "sqeez = tf.squeeze(e)\n",
    "#Extrae una porción del tensor\n",
    "slic = tf.slice(f, [1, 0, 0], [2, 1, 3])\n",
    "\n",
    "#uno = tf.concat([t1, t2], 0)\n",
    "#dos = tf.concat([t1, t2], 1)"
   ]
  },
  {
   "cell_type": "code",
   "execution_count": 3,
   "metadata": {
    "collapsed": true
   },
   "outputs": [],
   "source": [
    "#clase para ejecutar las operaciones de tensorflow\n",
    "sess = tf.Session() "
   ]
  },
  {
   "cell_type": "code",
   "execution_count": 4,
   "metadata": {
    "collapsed": false
   },
   "outputs": [
    {
     "name": "stdout",
     "output_type": "stream",
     "text": [
      "El resultado es: [2 2 3]\n",
      "El resultado es: 12\n",
      "El resultado es: 3\n",
      "El resultado es: [[1 2 3 4]\n",
      " [5 6 7 8]]\n",
      "El resultado es: [1 2 1 3 1 1]\n",
      "El resultado es: [[[3 3 3]]\n",
      "\n",
      " [[5 5 5]]]\n"
     ]
    }
   ],
   "source": [
    "print(\"El resultado es: {}\".format(sess.run(shape)))\n",
    "print(\"El resultado es: {}\".format(sess.run(size)))\n",
    "print(\"El resultado es: {}\".format(sess.run(rank)))\n",
    "print(\"El resultado es: {}\".format(sess.run(reshape)))  \n",
    "print(\"El resultado es: {}\".format(sess.run(sqeez))) \n",
    "print(\"El resultado es: {}\".format(sess.run(slic)))\n",
    "#print(\"El resultado es: {}\".format(sess.run(uno)))\n",
    "#print(\"El resultado es: {}\".format(sess.run(dos)))"
   ]
  },
  {
   "cell_type": "code",
   "execution_count": null,
   "metadata": {
    "collapsed": true
   },
   "outputs": [],
   "source": []
  }
 ],
 "metadata": {
  "kernelspec": {
   "display_name": "Python 2",
   "language": "python",
   "name": "python2"
  },
  "language_info": {
   "codemirror_mode": {
    "name": "ipython",
    "version": 2
   },
   "file_extension": ".py",
   "mimetype": "text/x-python",
   "name": "python",
   "nbconvert_exporter": "python",
   "pygments_lexer": "ipython2",
   "version": "2.7.6"
  }
 },
 "nbformat": 4,
 "nbformat_minor": 2
}
