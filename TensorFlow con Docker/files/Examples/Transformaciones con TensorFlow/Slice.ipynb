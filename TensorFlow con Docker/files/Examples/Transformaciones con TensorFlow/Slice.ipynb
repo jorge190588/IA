{
 "cells": [
  {
   "cell_type": "code",
   "execution_count": 4,
   "metadata": {
    "collapsed": false
   },
   "outputs": [
    {
     "name": "stdout",
     "output_type": "stream",
     "text": [
      "[[1 2 3]\n",
      " [3 4 5]\n",
      " [5 6 7]]\n"
     ]
    }
   ],
   "source": [
    "import tensorflow as tf\n",
    "import numpy as np\n",
    "\n",
    "ph = tf.placeholder(shape=[None,3], dtype=tf.int32)\n",
    "\n",
    "# slice = recortar\n",
    "# tf.slice(variable,posicion inicial, posicion final)\n",
    "x = tf.slice(ph, [0, 0], [3, 3])\n",
    "\n",
    "input_ = np.array([[1,2,3],\n",
    "                   [3,4,5],\n",
    "                   [5,6,7]])\n",
    "\n",
    "with tf.Session() as sess:\n",
    "        sess.run(tf.initialize_all_variables())\n",
    "        print sess.run(x, feed_dict={ph: input_})"
   ]
  }
 ],
 "metadata": {
  "kernelspec": {
   "display_name": "Python 2",
   "language": "python",
   "name": "python2"
  },
  "language_info": {
   "codemirror_mode": {
    "name": "ipython",
    "version": 2
   },
   "file_extension": ".py",
   "mimetype": "text/x-python",
   "name": "python",
   "nbconvert_exporter": "python",
   "pygments_lexer": "ipython2",
   "version": "2.7.6"
  }
 },
 "nbformat": 4,
 "nbformat_minor": 2
}
