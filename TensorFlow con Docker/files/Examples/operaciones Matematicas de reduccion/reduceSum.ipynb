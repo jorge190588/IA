{
 "cells": [
  {
   "cell_type": "raw",
   "metadata": {
    "collapsed": false
   },
   "source": [
    "# Funcion reduce_sum o reducir suma.\n",
    "La funcion **reduce_sum**, calcula la suma de los elementos a travez de las dimensiones de un tensor.   Esta funcion reemplaza a la operacion np.sum del paquete numpy.\n",
    "\n",
    "## Argumentos\n",
    "\n",
    "- **input_tensor:** un tensor para reducir.\n",
    "- **axis:** las dimensiones a reducir. Si es None (es el predeterminado) reduce todas las dimensiones. Este valor podria estar en un rango [-rank(input_tensor), rank(input_tensor))\n",
    "- **keep_dims:** si es \"true\" conserva las dimensiones reducidas con una longitud de 1.\n",
    "- **name:** representa un nombre para la operacion, este parametro es opcional.\n",
    "- **reduction_indices:** es un nombre para el eje (obsoleto actualmente).\n",
    "\n",
    "```\n",
    "reduce_sum(input_tensor,axis=None,keep_dims=False,name=None,reduction_indices=None)\n",
    "\n",
    "```\n",
    "\n",
    "## Resultado\n",
    "El resultado de la operacion es un tensor reducido\n",
    "\n",
    "\n",
    "## Referencias\n",
    "*[Tensorflow.org (2,017). tf.reduce_sum](https://www.tensorflow.org/api_docs/python/tf/reduce_sum)\n",
    "\n"
   ]
  },
  {
   "cell_type": "code",
   "execution_count": 22,
   "metadata": {
    "collapsed": false
   },
   "outputs": [
    {
     "name": "stdout",
     "output_type": "stream",
     "text": [
      "\n",
      " Escalar: \n",
      "34\n",
      "\n",
      "\n",
      " Vector: \n",
      "[[[ 4 10  6]\n",
      "  [ 4  6  4]]]\n",
      "\n",
      "\n",
      " Matriz: \n",
      "[[[5 9 5]]\n",
      "\n",
      " [[3 7 5]]]\n",
      "\n",
      "\n",
      " Tensor: \n",
      "[[[10]\n",
      "  [ 9]]\n",
      "\n",
      " [[10]\n",
      "  [ 5]]]\n",
      "\n",
      "\n",
      " Tensor Sin Dimension: \n",
      "[[10  9]\n",
      " [10  5]]\n",
      "\n",
      "\n",
      " Matriz Sin Dimension: \n",
      "[[5 9 5]\n",
      " [3 7 5]]\n",
      "\n",
      "\n",
      " Vector Sin Dimension: \n",
      "[[ 4 10  6]\n",
      " [ 4  6  4]]\n",
      "\n"
     ]
    }
   ],
   "source": [
    "import tensorflow as tf\n",
    "session = tf.Session()\n",
    "\n",
    "x = tf.constant([ [[2, 5, 3], [3, 4, 2]], [[2, 5, 3], [1, 2, 2]] ])\n",
    "session.run(tf.global_variables_initializer())\n",
    "\n",
    "escalar = tf.reduce_sum(x)  # 6\n",
    "escalarResultado = session.run(escalar)\n",
    "print(\"\\n Escalar: \\n\"+str(escalarResultado)+\"\\n\")\n",
    "\n",
    "vector =tf.reduce_sum(x, 0,keep_dims=True)\n",
    "vectorResultado = session.run(vector)\n",
    "print(\"\\n Vector: \\n\"+str(vectorResultado)+\"\\n\")\n",
    "\n",
    "matriz =tf.reduce_sum(x, 1,keep_dims=True)\n",
    "matrizResultado = session.run(matriz)\n",
    "print(\"\\n Matriz: \\n\"+str(matrizResultado)+\"\\n\")\n",
    "\n",
    "tensor =tf.reduce_sum(x, 2,keep_dims=True)\n",
    "tensorResultado = session.run(tensor)\n",
    "print(\"\\n Tensor: \\n\"+str(tensorResultado)+\"\\n\")\n",
    "\n",
    "tensorSinDimension =tf.reduce_sum(x, 2)\n",
    "tensorSinDimensionResultado = session.run(tensorSinDimension)\n",
    "print(\"\\n Tensor Sin Dimension: \\n\"+str(tensorSinDimensionResultado)+\"\\n\")\n",
    "\n",
    "matrizSinDimension =tf.reduce_sum(x, 1)\n",
    "matrizSinDimensionResultado = session.run(matrizSinDimension)\n",
    "print(\"\\n Matriz Sin Dimension: \\n\"+str(matrizSinDimensionResultado)+\"\\n\")\n",
    "\n",
    "vectorSinDimension =tf.reduce_sum(x, 0)\n",
    "vectorSinDimensionResultado = session.run(vectorSinDimension)\n",
    "print(\"\\n Vector Sin Dimension: \\n\"+str(vectorSinDimensionResultado)+\"\\n\")\n"
   ]
  },
  {
   "cell_type": "markdown",
   "metadata": {
    "collapsed": false
   },
   "source": []
  }
 ],
 "metadata": {
  "kernelspec": {
   "display_name": "Python 2",
   "language": "python",
   "name": "python2"
  },
  "language_info": {
   "codemirror_mode": {
    "name": "ipython",
    "version": 2
   },
   "file_extension": ".py",
   "mimetype": "text/x-python",
   "name": "python",
   "nbconvert_exporter": "python",
   "pygments_lexer": "ipython2",
   "version": "2.7.6"
  }
 },
 "nbformat": 4,
 "nbformat_minor": 0
}
